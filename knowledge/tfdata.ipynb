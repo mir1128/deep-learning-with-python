{
 "cells": [
  {
   "cell_type": "markdown",
   "source": [
    "tf.data API引入了tf.data.Dataset抽象表示一个元素序列\n",
    "\n",
    "## 基本机制\n",
    "\n",
    "`tf.data.Dataset.from_tensors()` 或者 `tf.data.Dataset.from_tensor_slices()`\n",
    "\n",
    "基本用法"
   ],
   "metadata": {
    "collapsed": false
   }
  },
  {
   "cell_type": "code",
   "execution_count": 31,
   "outputs": [
    {
     "name": "stdout",
     "output_type": "stream",
     "text": [
      "<TensorSliceDataset element_spec=TensorSpec(shape=(), dtype=tf.int32, name=None)>\n",
      "---------------------------------------\n",
      "8\n",
      "3\n",
      "0\n",
      "8\n",
      "2\n",
      "1\n",
      "---------------------------------------\n",
      "22\n",
      "--------------------------------------\n",
      "TensorSpec(shape=(10,), dtype=tf.float32, name=None)\n",
      "--------------------------------------\n",
      "(TensorSpec(shape=(), dtype=tf.float32, name=None), TensorSpec(shape=(100,), dtype=tf.int32, name=None))\n",
      "--------------------------------------\n",
      "(TensorSpec(shape=(10,), dtype=tf.float32, name=None), (TensorSpec(shape=(), dtype=tf.float32, name=None), TensorSpec(shape=(100,), dtype=tf.int32, name=None)))\n",
      "--------------------------------------\n",
      "SparseTensorSpec(TensorShape([3, 4]), tf.int32)\n",
      "--------------------------------------\n",
      "<TensorSliceDataset element_spec=TensorSpec(shape=(10,), dtype=tf.int32, name=None)>\n",
      "[3 4 7 7 9 9 3 3 4 3]\n",
      "[1 1 7 7 4 7 3 6 6 8]\n",
      "[2 1 7 4 9 2 3 8 5 6]\n",
      "[6 8 7 5 5 7 9 1 9 9]\n",
      "--------------------------------------\n",
      "<TensorSliceDataset element_spec=(TensorSpec(shape=(), dtype=tf.float32, name=None), TensorSpec(shape=(100,), dtype=tf.int32, name=None))>\n",
      "--------------------------------------\n",
      "--------------------------------------\n",
      "0.84381235\n",
      "[46 31 14 86 60  8 38 97 75 74 39 67 83 25 91 57 28 41 59 55 86 28 73 19\n",
      " 82 25 15 92 43 47 14  7 82 84 46 92 82 42 49 26  3  5 80 62 62 37 85 22\n",
      " 92 16 14 49 64 41 81 96 30 26 46  5 29 75 53 74 98 32 89 69 47 93 41 61\n",
      "  8 16 80 17 80 71 81 52  7 52 22 41 68 80  7 84 80 14 70 37 75 33 74 67\n",
      " 48 77 28 68]\n",
      "--------------------------------------\n",
      "0.17931986\n",
      "[62 28 71 90 54 59 67 61 38 64 95 84 88 18 58 93 24 63 76 52 26 45 74 67\n",
      " 73 22 74 97 20 51 74 35 91 16 52 36 41 83 59 75 15 43  5 13  8 99 30 36\n",
      " 51 86 28 97 97 99 47 70 69 99 63 71 47  5 61 38 61 69 85  1 24 64 66 72\n",
      " 17  3 17 54 17 55 47 88 80 10 81 96 12  8 74 45 79 42 49 33 88 18 38 55\n",
      " 48 74 85 34]\n",
      "--------------------------------------\n",
      "0.35799718\n",
      "[45 21 20 73 85 40 85 40 61 48 36  6 43 61 13  9 48 47  6 94 84 37  5 86\n",
      "  5 48 38 80 67 73  2 48 92 86 29 83 44 10 22 46 76 91 57 42 77 46 38 78\n",
      " 79 25 80 94 20 67 98 60 12 79 73 27 17 79 14 91 80 62 65 73 24 46 57 60\n",
      "  4 43 85 34 22  1  2  2 25 23 83 38 76 66 55  4  2 38 26 72 42 53 17 58\n",
      " 77 16 59 46]\n",
      "--------------------------------------\n",
      "0.12862885\n",
      "[30 88 10 80 22 17 75 32 69 43 72 46 19 18  6 39 27 27 44 49 33 14 45 65\n",
      " 19 66 31  7 90  6 62 75 48 98 48 59 19  5 47 69 19 36 59 17 51 70 74 83\n",
      " 18 28 67 70 87  8 48 36 22 92 28 99  2 67 53  4 53 63 63  6 11 27 41 19\n",
      " 42 93 83 58 60 44 39 11 87 76 52 76 91 34 10 39  5 64 98 25 56 83 92 55\n",
      "  0 79 36 35]\n",
      "--------------------------------------\n",
      "<ZipDataset element_spec=(TensorSpec(shape=(10,), dtype=tf.int32, name=None), (TensorSpec(shape=(), dtype=tf.float32, name=None), TensorSpec(shape=(100,), dtype=tf.int32, name=None)))>\n",
      "----------------------------------\n",
      "shapes: (10,), (), (100,)\n",
      "shapes: (10,), (), (100,)\n",
      "shapes: (10,), (), (100,)\n",
      "shapes: (10,), (), (100,)\n"
     ]
    }
   ],
   "source": [
    "import tensorflow as tf\n",
    "\n",
    "\n",
    "def dis(ds):\n",
    "    for elem in ds:\n",
    "        print(elem.numpy())\n",
    "\n",
    "dataset = tf.data.Dataset.from_tensor_slices([8, 3, 0, 8, 2, 1])\n",
    "\n",
    "print(dataset)\n",
    "\n",
    "print('---------------------------------------')\n",
    "\n",
    "for elem in dataset:\n",
    "    print(elem.numpy())\n",
    "\n",
    "print('---------------------------------------')\n",
    "print(dataset.reduce(0, lambda state, value: state + value).numpy())\n",
    "\n",
    "print('--------------------------------------')\n",
    "dataset1 = tf.data.Dataset.from_tensor_slices(tf.random.uniform([4, 10]))\n",
    "\n",
    "print(dataset1.element_spec)\n",
    "\n",
    "print('--------------------------------------')\n",
    "\n",
    "dataset2 = tf.data.Dataset.from_tensor_slices(\n",
    "   (tf.random.uniform([4]),\n",
    "    tf.random.uniform([4, 100], maxval=100, dtype=tf.int32)))\n",
    "\n",
    "print(dataset2.element_spec)\n",
    "\n",
    "print('--------------------------------------')\n",
    "dataset3= tf.data.Dataset.zip((dataset1, dataset2))\n",
    "print(dataset3.element_spec)\n",
    "\n",
    "print('--------------------------------------')\n",
    "# Dataset containing a sparse tensor.\n",
    "dataset4 = tf.data.Dataset.from_tensors(tf.SparseTensor(indices=[[0, 0], [1, 2]], values=[1, 2], dense_shape=[3, 4]))\n",
    "\n",
    "print(dataset4.element_spec)\n",
    "\n",
    "print('--------------------------------------')\n",
    "dataset1 = tf.data.Dataset.from_tensor_slices(\n",
    "    tf.random.uniform([4, 10], minval=1, maxval=10, dtype=tf.int32))\n",
    "\n",
    "print(dataset1)\n",
    "\n",
    "dis(dataset1)\n",
    "\n",
    "print('--------------------------------------')\n",
    "\n",
    "dataset2 = tf.data.Dataset.from_tensor_slices(\n",
    "   (tf.random.uniform([4]),\n",
    "    tf.random.uniform([4, 100], maxval=100, dtype=tf.int32)))\n",
    "\n",
    "print(dataset2)\n",
    "\n",
    "print('--------------------------------------')\n",
    "\n",
    "for ds in dataset2:\n",
    "    print('--------------------------------------')\n",
    "    dis(ds)\n",
    "\n",
    "print('--------------------------------------')\n",
    "dataset3 = tf.data.Dataset.zip((dataset1, dataset2))\n",
    "\n",
    "print(dataset3)\n",
    "\n",
    "print('----------------------------------')\n",
    "\n",
    "for a, (b, c) in dataset3:\n",
    "    print('shapes: {a.shape}, {b.shape}, {c.shape}'.format(a=a, b=b, c=c))\n",
    "\n"
   ],
   "metadata": {
    "collapsed": false
   }
  },
  {
   "cell_type": "markdown",
   "source": [
    "### 读取输入数据\n"
   ],
   "metadata": {
    "collapsed": false
   }
  },
  {
   "cell_type": "code",
   "execution_count": 41,
   "outputs": [
    {
     "name": "stdout",
     "output_type": "stream",
     "text": [
      "<class 'tuple'> <class 'tuple'>\n",
      "2\n",
      "<class 'numpy.ndarray'> <class 'numpy.ndarray'>\n",
      "<TensorSliceDataset element_spec=(TensorSpec(shape=(28, 28), dtype=tf.uint8, name=None), TensorSpec(shape=(), dtype=tf.uint8, name=None))>\n"
     ]
    }
   ],
   "source": [
    "train, test = tf.keras.datasets.fashion_mnist.load_data()\n",
    "\n",
    "print(type(train), type(test))\n",
    "\n",
    "images, label = train\n",
    "print(len(train))\n",
    "\n",
    "print(type(images), type(label))\n",
    "\n",
    "dataset = tf.data.Dataset.from_tensor_slices((images, label))\n",
    "print(dataset)\n"
   ],
   "metadata": {
    "collapsed": false
   }
  }
 ],
 "metadata": {
  "kernelspec": {
   "display_name": "Python 3",
   "language": "python",
   "name": "python3"
  },
  "language_info": {
   "codemirror_mode": {
    "name": "ipython",
    "version": 2
   },
   "file_extension": ".py",
   "mimetype": "text/x-python",
   "name": "python",
   "nbconvert_exporter": "python",
   "pygments_lexer": "ipython2",
   "version": "2.7.6"
  }
 },
 "nbformat": 4,
 "nbformat_minor": 0
}
